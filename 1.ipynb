{
  "nbformat": 4,
  "nbformat_minor": 0,
  "metadata": {
    "colab": {
      "provenance": [],
      "authorship_tag": "ABX9TyM1kzpkznMCZCtu22rh4GTe",
      "include_colab_link": true
    },
    "kernelspec": {
      "name": "python3",
      "display_name": "Python 3"
    },
    "language_info": {
      "name": "python"
    }
  },
  "cells": [
    {
      "cell_type": "markdown",
      "metadata": {
        "id": "view-in-github",
        "colab_type": "text"
      },
      "source": [
        "<a href=\"https://colab.research.google.com/github/CatedSathishkumar/data-analytics/blob/main/1.ipynb\" target=\"_parent\"><img src=\"https://colab.research.google.com/assets/colab-badge.svg\" alt=\"Open In Colab\"/></a>"
      ]
    },
    {
      "cell_type": "code",
      "execution_count": 1,
      "metadata": {
        "id": "3Ch0pKVN8Ow5"
      },
      "outputs": [],
      "source": [
        "import pandas as pd\n",
        "from tabulate import tabulate\n",
        "import traceback\n",
        "import numpy as np\n",
        "import matplotlib.pyplot as plt\n",
        "from requests import get\n",
        "import requests\n",
        "import os"
      ]
    },
    {
      "cell_type": "code",
      "source": [
        "lst_names = []\n",
        "# list with some string values in it\n",
        "lst_cities = [\"Bangalore\", \"Chennai\", \"SFO\", \"Beijing\"]\n",
        "# append to existing list\n",
        "lst_cities.append(\"NYC\")\n",
        "# list with some integer values\n",
        "lst_age = [10, 20]\n",
        "# append an integer to the existing list\n",
        "lst_age.append(30)\n",
        "# iterate each value in a list\n",
        "for val in lst_cities:\n",
        "    print(val) # Indent this line to include it in the for loop\n",
        "# check if a value exists in a list\n",
        "if \"SFO\" in lst_cities:\n",
        "    print(\"yes\") # Indent this line to include it in the if block\n",
        "else:\n",
        "    print(\"no\") # Indent this line to include it in the else block"
      ],
      "metadata": {
        "colab": {
          "base_uri": "https://localhost:8080/"
        },
        "id": "VIz2CPyl9Foy",
        "outputId": "5d2494b0-5f29-4d5e-c209-1f063ea88190"
      },
      "execution_count": 4,
      "outputs": [
        {
          "output_type": "stream",
          "name": "stdout",
          "text": [
            "Bangalore\n",
            "Chennai\n",
            "SFO\n",
            "Beijing\n",
            "NYC\n",
            "yes\n"
          ]
        }
      ]
    },
    {
      "cell_type": "markdown",
      "source": [
        "links"
      ],
      "metadata": {
        "id": "julpPxCW9pZQ"
      }
    },
    {
      "cell_type": "code",
      "source": [
        "lst_pets = [\"dog\", \"cat\"]\n",
        "for i, value in enumerate(lst_pets):\n",
        "    print(f\"At index {i}, the value in the list is {value}\")"
      ],
      "metadata": {
        "colab": {
          "base_uri": "https://localhost:8080/"
        },
        "id": "TeHYk6-19vhH",
        "outputId": "7a70ffd3-e353-4e14-bfed-0d8ca77248ea"
      },
      "execution_count": 6,
      "outputs": [
        {
          "output_type": "stream",
          "name": "stdout",
          "text": [
            "At index 0, the value in the list is dog\n",
            "At index 1, the value in the list is cat\n"
          ]
        }
      ]
    },
    {
      "cell_type": "code",
      "source": [],
      "metadata": {
        "id": "OxSBCywb96Xm"
      },
      "execution_count": null,
      "outputs": []
    }
  ]
}