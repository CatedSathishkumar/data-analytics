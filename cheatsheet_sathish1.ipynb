{
  "nbformat": 4,
  "nbformat_minor": 0,
  "metadata": {
    "colab": {
      "provenance": [],
      "name": "cheatsheet sathish.ipynb",
      "toc_visible": true,
      "authorship_tag": "ABX9TyNa4wcwo1osY9Vsdv/Ut1MM",
      "include_colab_link": true
    },
    "kernelspec": {
      "name": "python3",
      "display_name": "Python 3"
    },
    "language_info": {
      "name": "python"
    }
  },
  "cells": [
    {
      "cell_type": "markdown",
      "metadata": {
        "id": "view-in-github",
        "colab_type": "text"
      },
      "source": [
        "<a href=\"https://colab.research.google.com/github/CatedSathishkumar/data-analytics/blob/main/cheatsheet_sathish1.ipynb\" target=\"_parent\"><img src=\"https://colab.research.google.com/assets/colab-badge.svg\" alt=\"Open In Colab\"/></a>"
      ]
    },
    {
      "cell_type": "code",
      "execution_count": null,
      "metadata": {
        "colab": {
          "base_uri": "https://localhost:8080/"
        },
        "id": "1anGWFuOltsc",
        "outputId": "ff05fbcf-d3e7-4e1a-fa4b-a12635b73e46"
      },
      "outputs": [
        {
          "output_type": "stream",
          "name": "stdout",
          "text": [
            "hello world\n"
          ]
        }
      ],
      "source": [
        "print(\"hello world\")"
      ]
    },
    {
      "cell_type": "code",
      "source": [
        "\n",
        "import pandas as pd\n",
        "\n",
        "# Sample DataFrame for demonstration\n",
        "df = pd.DataFrame({\n",
        "    'id1': [1, 1, 2, 2],\n",
        "    'id2': [1, 2, 1, 2],\n",
        "    'id3': [1, 2, 1, 2],\n",
        "    'col': [10, 20, 30, 40]\n",
        "})\n",
        "\n",
        "# Group by and aggregate\n",
        "df_agg = df.groupby([\"id1\", \"id2\", \"id3\"]).agg({'col': ['min', 'max']})\n",
        "\n",
        "# Flatten MultiIndex columns if they exist\n",
        "if isinstance(df_agg.columns, pd.MultiIndex):\n",
        "    df_agg.columns = ['_'.join(col).strip() for col in df_agg.columns.values]\n",
        "\n",
        "df_agg = df_agg.reset_index()\n",
        "\n",
        "# Display the result\n",
        "print(df_agg)\n",
        "\n"
      ],
      "metadata": {
        "colab": {
          "base_uri": "https://localhost:8080/"
        },
        "id": "HHaQgLtDl8Df",
        "outputId": "29902559-1a25-436b-ac99-58d2faa25792"
      },
      "execution_count": 2,
      "outputs": [
        {
          "output_type": "stream",
          "name": "stdout",
          "text": [
            "   id1  id2  id3  col_min  col_max\n",
            "0    1    1    1       10       10\n",
            "1    1    2    2       20       20\n",
            "2    2    1    1       30       30\n",
            "3    2    2    2       40       40\n"
          ]
        }
      ]
    },
    {
      "cell_type": "code",
      "source": [
        "import pandas as pd\n",
        "\n",
        "# Create a sample DataFrame\n",
        "data = {\n",
        "    'source': ['A', 'B', 'A', 'B', 'A', 'C', 'B', 'C'],\n",
        "    'sent1': [10, 20, 30, 40, 50, 60, 70, 80],\n",
        "    'sent2': [1.5, 2.5, 3.5, 4.5, 5.5, 6.5, 7.5, 8.5]\n",
        "}\n",
        "\n",
        "df = pd.DataFrame(data)\n",
        "\n",
        "print(df)\n",
        "\n",
        "df.groupby('source').agg(\n",
        "    count=('sent1', 'size'),\n",
        "    mean_sent1=('sent1', 'mean'),\n",
        "    mean_sent2=('sent2', 'mean')\n",
        ").reset_index()\n",
        "df[0:10]\n",
        "df.dropna()\n",
        "# keep the data frame with valid entries (no \"nan\") in the same variable \"df\"\n",
        "df.dropna(inplace=True)\n",
        "df_new = df.dropna(axis='columns')"
      ],
      "metadata": {
        "id": "TjtUgquou6mb",
        "outputId": "2e1111b6-b6e0-4b76-8bd0-71b803925f65",
        "colab": {
          "base_uri": "https://localhost:8080/"
        }
      },
      "execution_count": 9,
      "outputs": [
        {
          "output_type": "stream",
          "name": "stdout",
          "text": [
            "  source  sent1  sent2\n",
            "0      A     10    1.5\n",
            "1      B     20    2.5\n",
            "2      A     30    3.5\n",
            "3      B     40    4.5\n",
            "4      A     50    5.5\n",
            "5      C     60    6.5\n",
            "6      B     70    7.5\n",
            "7      C     80    8.5\n"
          ]
        }
      ]
    },
    {
      "cell_type": "code",
      "source": [
        "import pandas as pd\n",
        "\n",
        "# Sample DataFrame\n",
        "df = pd.DataFrame({\n",
        "    'col_1': [1, 2, None, 4, None],\n",
        "    'col_2': ['A', 'B', 'C', 'D', 'E']\n",
        "})\n",
        "\n",
        "# Create a new DataFrame with non-null values in 'col_1'\n",
        "df_new = df[df['col_1'].notnull()]\n",
        "\n",
        "print(\"DataFrame with non-null values in 'col_1':\")\n",
        "print(df_new)\n",
        "\n",
        "# Drop rows where 'col_1' is NaN, modify original DataFrame in place\n",
        "df.dropna(subset=['col_1'], how='any', inplace=True)\n",
        "\n",
        "print(\"\\nOriginal DataFrame after dropping rows with NaN in 'col_1':\")\n",
        "print(df)\n"
      ],
      "metadata": {
        "id": "mTUjTIdtxk9M",
        "outputId": "f64d44b5-9538-4c52-f9eb-8c9f0daed4e1",
        "colab": {
          "base_uri": "https://localhost:8080/"
        }
      },
      "execution_count": 10,
      "outputs": [
        {
          "output_type": "stream",
          "name": "stdout",
          "text": [
            "DataFrame with non-null values in 'col_1':\n",
            "   col_1 col_2\n",
            "0    1.0     A\n",
            "1    2.0     B\n",
            "3    4.0     D\n",
            "\n",
            "Original DataFrame after dropping rows with NaN in 'col_1':\n",
            "   col_1 col_2\n",
            "0    1.0     A\n",
            "1    2.0     B\n",
            "3    4.0     D\n"
          ]
        }
      ]
    },
    {
      "cell_type": "code",
      "source": [
        "import pandas as pd\n",
        "\n",
        "# Sample DataFrame\n",
        "df = pd.DataFrame({\n",
        "    'col_name1': [1, 2, 2, 4, 5],\n",
        "    'col_name2': ['A', 'B', 'B', 'D', 'E'],\n",
        "    'col_name3': [10, 20, 20, 40, 50]\n",
        "})\n",
        "\n",
        "# Drop duplicate rows based on 'col_name1', 'col_name2', 'col_name3'\n",
        "# Keeping the last occurrence of each set of duplicates\n",
        "df = df.drop_duplicates(subset=['col_name1', 'col_name2', 'col_name3'], keep='last')\n",
        "\n",
        "print(df)\n"
      ],
      "metadata": {
        "id": "-EYD31oPx4Za",
        "outputId": "c0cfea94-d41d-4864-bc8e-c1b28978500c",
        "colab": {
          "base_uri": "https://localhost:8080/"
        }
      },
      "execution_count": 11,
      "outputs": [
        {
          "output_type": "stream",
          "name": "stdout",
          "text": [
            "   col_name1 col_name2  col_name3\n",
            "0          1         A         10\n",
            "2          2         B         20\n",
            "3          4         D         40\n",
            "4          5         E         50\n"
          ]
        }
      ]
    },
    {
      "cell_type": "code",
      "source": [
        "import pandas as pd\n",
        "\n",
        "# Sample DataFrame\n",
        "df = pd.DataFrame({\n",
        "    'author_name': ['Alice', 'Bob', 'Charlie'],\n",
        "    'email': ['alice@example.com', 'bob@example.com', 'charlie@example.com']\n",
        "})\n",
        "\n",
        "# Iterate over each row in the DataFrame\n",
        "for index, row in df.iterrows():\n",
        "    curr_authorname = row['author_name']\n",
        "    curr_email = row['email']\n",
        "\n",
        "    # Print or use the variables as needed\n",
        "    print(f\"Author Name: {curr_authorname}, Email: {curr_email}\")\n"
      ],
      "metadata": {
        "id": "J1EUKRnFyO4C",
        "outputId": "41690074-bc03-4889-94c8-9c1665d4419c",
        "colab": {
          "base_uri": "https://localhost:8080/"
        }
      },
      "execution_count": 13,
      "outputs": [
        {
          "output_type": "stream",
          "name": "stdout",
          "text": [
            "Author Name: Alice, Email: alice@example.com\n",
            "Author Name: Bob, Email: bob@example.com\n",
            "Author Name: Charlie, Email: charlie@example.com\n"
          ]
        }
      ]
    },
    {
      "cell_type": "code",
      "source": [
        "import pandas as pd\n",
        "\n",
        "# Sample DataFrame\n",
        "df = pd.DataFrame({\n",
        "    'states': ['California', 'Texas', 'New York'],\n",
        "    'count': [39, 29, 19]\n",
        "})\n",
        "\n",
        "# Convert columns to dictionary\n",
        "dict_stats_count = dict(zip(df['states'], df['count']))\n",
        "\n",
        "print(dict_stats_count)\n"
      ],
      "metadata": {
        "id": "ZzoqHW1Wy0NT",
        "outputId": "064a89e2-8782-42d9-b29c-09a94b57b6b8",
        "colab": {
          "base_uri": "https://localhost:8080/"
        }
      },
      "execution_count": 14,
      "outputs": [
        {
          "output_type": "stream",
          "name": "stdout",
          "text": [
            "{'California': 39, 'Texas': 29, 'New York': 19}\n"
          ]
        }
      ]
    },
    {
      "cell_type": "code",
      "source": [
        "import pandas as pd\n",
        "\n",
        "# List of lists\n",
        "lst_pets = [['dog', 1], ['cat', 2], ['fish', 3]]\n",
        "\n",
        "# Create DataFrame\n",
        "df = pd.DataFrame(lst_pets, columns=['animal', 'amount'])\n",
        "\n",
        "print(df)\n"
      ],
      "metadata": {
        "id": "CtYnM5DEzFW8",
        "outputId": "0a24330e-4fe4-4069-a7cc-a930e55ee838",
        "colab": {
          "base_uri": "https://localhost:8080/"
        }
      },
      "execution_count": 15,
      "outputs": [
        {
          "output_type": "stream",
          "name": "stdout",
          "text": [
            "  animal  amount\n",
            "0    dog       1\n",
            "1    cat       2\n",
            "2   fish       3\n"
          ]
        }
      ]
    },
    {
      "cell_type": "code",
      "source": [
        "import pandas as pd\n",
        "\n",
        "# Sample DataFrame\n",
        "df = pd.DataFrame({\n",
        "    'animal': ['dog', 'cat', 'fish'],\n",
        "    'amount': [1, 2, 3]\n",
        "})\n",
        "\n",
        "# Rename columns\n",
        "df.columns = [\"new_col1\", \"new_col2\"]\n",
        "\n",
        "print(df)\n"
      ],
      "metadata": {
        "id": "LQe8a3sGzTg9",
        "outputId": "64f60b27-d864-48e6-b648-6ec1bfa7e50f",
        "colab": {
          "base_uri": "https://localhost:8080/"
        }
      },
      "execution_count": 16,
      "outputs": [
        {
          "output_type": "stream",
          "name": "stdout",
          "text": [
            "  new_col1  new_col2\n",
            "0      dog         1\n",
            "1      cat         2\n",
            "2     fish         3\n"
          ]
        }
      ]
    },
    {
      "cell_type": "code",
      "source": [
        "import pandas as pd\n",
        "\n",
        "# Sample DataFrame with old column names\n",
        "df = pd.DataFrame({\n",
        "    '$a': [1, 2, 3],\n",
        "    '$b': [4, 5, 6],\n",
        "    '$c': [7, 8, 9],\n",
        "    '$d': [10, 11, 12],\n",
        "    '$e': [13, 14, 15]\n",
        "})\n",
        "\n",
        "# Old and new column names\n",
        "old_names = ['$a', '$b', '$c', '$d', '$e']\n",
        "new_names = ['a', 'b', 'c', 'd', 'e']\n",
        "\n",
        "# Create a dictionary for renaming columns\n",
        "rename_dict = dict(zip(old_names, new_names))\n",
        "\n",
        "# Rename columns\n",
        "df.rename(columns=rename_dict, inplace=True)\n",
        "\n",
        "print(df)\n"
      ],
      "metadata": {
        "id": "E9--OeVLzhmZ",
        "outputId": "268220b9-ee1b-457d-fb2f-c069f15a1660",
        "colab": {
          "base_uri": "https://localhost:8080/"
        }
      },
      "execution_count": 17,
      "outputs": [
        {
          "output_type": "stream",
          "name": "stdout",
          "text": [
            "   a  b  c   d   e\n",
            "0  1  4  7  10  13\n",
            "1  2  5  8  11  14\n",
            "2  3  6  9  12  15\n"
          ]
        }
      ]
    },
    {
      "cell_type": "code",
      "source": [
        "import pandas as pd\n",
        "\n",
        "# Sample DataFrame\n",
        "df = pd.DataFrame({\n",
        "    'num_hours': [1, 2, 3, 4, 5]\n",
        "})\n",
        "\n",
        "# Define the custom function\n",
        "def to_minutes(row):\n",
        "    return row['num_hours'] * 60\n",
        "\n",
        "# Create a new column using the custom function\n",
        "df['newcolumn'] = df.apply(to_minutes, axis=1)\n",
        "\n",
        "print(df)\n"
      ],
      "metadata": {
        "id": "Bvut1iFGzwFN",
        "outputId": "d9c1cca8-8eb2-453c-aab4-bfe35e0983fa",
        "colab": {
          "base_uri": "https://localhost:8080/"
        }
      },
      "execution_count": 18,
      "outputs": [
        {
          "output_type": "stream",
          "name": "stdout",
          "text": [
            "   num_hours  newcolumn\n",
            "0          1         60\n",
            "1          2        120\n",
            "2          3        180\n",
            "3          4        240\n",
            "4          5        300\n"
          ]
        }
      ]
    },
    {
      "cell_type": "code",
      "source": [
        "age = 10\n",
        "name = \"dog\"\n",
        "\n",
        "if age == 10 and name == \"dog\":  # Conditional \"and\"\n",
        "    print(\"10\")\n",
        "elif age == 1 or age == 5:  # Conditional \"or\"\n",
        "    print(\"either 1 or 5\")\n",
        "else:\n",
        "    print(\"else\")\n"
      ],
      "metadata": {
        "id": "_X0LEP1Z0PZR",
        "outputId": "5185e42e-7368-4e51-d6bd-fdedd31e8d49",
        "colab": {
          "base_uri": "https://localhost:8080/"
        }
      },
      "execution_count": 19,
      "outputs": [
        {
          "output_type": "stream",
          "name": "stdout",
          "text": [
            "10\n"
          ]
        }
      ]
    },
    {
      "cell_type": "code",
      "source": [
        "import pandas as pd\n",
        "\n",
        "# Sample DataFrame\n",
        "df = pd.DataFrame({\n",
        "    'age': [16, 18, 20, 25, 30],\n",
        "    'pet_type': ['dog', 'cat', 'fish', 'dog', 'cat']\n",
        "})\n",
        "\n",
        "# Filter rows where 'age' is either 18 or 20\n",
        "df_18_20 = df[df[\"age\"].isin([18, 20])]\n",
        "\n",
        "# Filter rows where 'pet_type' is either \"dog\" or \"cat\"\n",
        "df_dog_cat = df[df[\"pet_type\"].isin([\"dog\", \"cat\"])]\n",
        "\n",
        "print(\"Rows with age 18 or 20:\")\n",
        "print(df_18_20)\n",
        "\n",
        "print(\"\\nRows with pet_type 'dog' or 'cat':\")\n",
        "print(df_dog_cat)\n"
      ],
      "metadata": {
        "id": "KglBU3e90cpZ",
        "outputId": "4fcad83e-2661-4542-fabb-d9d3c2d98ab5",
        "colab": {
          "base_uri": "https://localhost:8080/"
        }
      },
      "execution_count": 20,
      "outputs": [
        {
          "output_type": "stream",
          "name": "stdout",
          "text": [
            "Rows with age 18 or 20:\n",
            "   age pet_type\n",
            "1   18      cat\n",
            "2   20     fish\n",
            "\n",
            "Rows with pet_type 'dog' or 'cat':\n",
            "   age pet_type\n",
            "0   16      dog\n",
            "1   18      cat\n",
            "3   25      dog\n",
            "4   30      cat\n"
          ]
        }
      ]
    },
    {
      "cell_type": "code",
      "source": [
        "str_message = 'Life will be truly wonderful on a wonderful planet.'\n",
        "\n",
        "# Find the index of the first occurrence of 'wonderful' from the left\n",
        "index_find = str_message.find('wonderful')\n",
        "print(index_find)  # Output: 19\n",
        "\n",
        "# Find the index of the first occurrence of 'wonderful' from the right\n",
        "index_rfind = str_message.rfind('wonderful')\n",
        "print(index_rfind)  # Output: 34\n",
        "\n",
        "# Find the index of the first occurrence of 'wonder'\n",
        "index_find_wonder = str_message.find('wonder')\n",
        "print(index_find_wonder)  # Output: 19\n",
        "\n",
        "# Find the index of 'wonder' starting from index 20\n",
        "index_find_wonder_after_20 = str_message.find('wonder', 20)\n",
        "print(index_find_wonder_after_20)  # Output: 34\n"
      ],
      "metadata": {
        "id": "LGSgrBeX028n",
        "outputId": "5dc8c110-580a-4cdc-a63f-3bf8be85fe24",
        "colab": {
          "base_uri": "https://localhost:8080/"
        }
      },
      "execution_count": 21,
      "outputs": [
        {
          "output_type": "stream",
          "name": "stdout",
          "text": [
            "19\n",
            "34\n",
            "19\n",
            "34\n"
          ]
        }
      ]
    }
  ]
}