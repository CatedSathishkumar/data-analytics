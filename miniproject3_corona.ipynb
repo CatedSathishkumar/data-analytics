{
  "cells": [
    {
      "cell_type": "markdown",
      "metadata": {
        "id": "view-in-github",
        "colab_type": "text"
      },
      "source": [
        "<a href=\"https://colab.research.google.com/github/CatedSathishkumar/data-analytics/blob/main/miniproject3_corona.ipynb\" target=\"_parent\"><img src=\"https://colab.research.google.com/assets/colab-badge.svg\" alt=\"Open In Colab\"/></a>"
      ]
    },
    {
      "cell_type": "code",
      "source": [
        "import pandas as pd\n",
        "import numpy as np\n",
        "import matplotlib.pyplot as plt\n",
        "import seaborn as sns\n",
        "from tabulate import tabulate\n",
        "import traceback\n",
        "from requests import get\n",
        "import requests\n",
        "import os\n",
        "\n",
        "\n",
        "from google.colab import drive\n",
        "drive.mount('/content/gdrive/')\n"
      ],
      "metadata": {
        "colab": {
          "base_uri": "https://localhost:8080/"
        },
        "id": "ju2EZPWC757k",
        "outputId": "f6562760-5f75-462c-e34d-89171c521235"
      },
      "execution_count": 4,
      "outputs": [
        {
          "output_type": "stream",
          "name": "stdout",
          "text": [
            "Mounted at /content/gdrive/\n"
          ]
        }
      ]
    },
    {
      "cell_type": "code",
      "source": [
        "import pandas as pd\n",
        "df = pd.read_csv('/content/drive/MyDrive/dataanalytics1/us-counties.csv')\n"
      ],
      "metadata": {
        "id": "LgSdMqJR9Nvb"
      },
      "execution_count": 10,
      "outputs": []
    },
    {
      "cell_type": "code",
      "source": [
        "print(df)\n"
      ],
      "metadata": {
        "colab": {
          "base_uri": "https://localhost:8080/"
        },
        "id": "yFsDt-xx9nyJ",
        "outputId": "acf0a478-4775-478e-f0bf-bef1418e453f"
      },
      "execution_count": 11,
      "outputs": [
        {
          "output_type": "stream",
          "name": "stdout",
          "text": [
            "               date      county       state     fips  cases  deaths\n",
            "0        2020-01-21   Snohomish  Washington  53061.0      1     0.0\n",
            "1        2020-01-22   Snohomish  Washington  53061.0      1     0.0\n",
            "2        2020-01-23   Snohomish  Washington  53061.0      1     0.0\n",
            "3        2020-01-24        Cook    Illinois  17031.0      1     0.0\n",
            "4        2020-01-24   Snohomish  Washington  53061.0      1     0.0\n",
            "...             ...         ...         ...      ...    ...     ...\n",
            "2099369  2022-01-09  Sweetwater     Wyoming  56037.0   8506   110.0\n",
            "2099370  2022-01-09       Teton     Wyoming  56039.0   7025    14.0\n",
            "2099371  2022-01-09       Uinta     Wyoming  56041.0   4264    34.0\n",
            "2099372  2022-01-09    Washakie     Wyoming  56043.0   1914    39.0\n",
            "2099373  2022-01-09      Weston     Wyoming  56045.0   1263    16.0\n",
            "\n",
            "[2099374 rows x 6 columns]\n"
          ]
        }
      ]
    },
    {
      "cell_type": "code",
      "source": [
        "#States with the 10 highest death count in 2020\n",
        "df_deaths_in_2020 = df[(df['date'] >= '2020-01-01') & (df['date'] <= '2020-12-31')]\n",
        "print(df_deaths_in_2020)\n",
        "df_top_10_counties_2020 = df_deaths_in_2020.groupby('state')['deaths'].sum().nlargest(10)\n",
        "\n",
        "#Renaming the columns of output\n",
        "df_top_10_counties_2020 = pd.DataFrame(df_top_10_counties_2020).reset_index()\n",
        "df_top_10_counties_2020.columns = ['state', 'highest_deaths']\n",
        "\n",
        "print(df_top_10_counties_2020)\n",
        "\n"
      ],
      "metadata": {
        "colab": {
          "base_uri": "https://localhost:8080/"
        },
        "id": "Fk5IhF2l924I",
        "outputId": "0830acc9-1d2b-48d1-cd85-0cf8544c5e0f"
      },
      "execution_count": 12,
      "outputs": [
        {
          "output_type": "stream",
          "name": "stdout",
          "text": [
            "              date      county       state     fips  cases  deaths\n",
            "0       2020-01-21   Snohomish  Washington  53061.0      1     0.0\n",
            "1       2020-01-22   Snohomish  Washington  53061.0      1     0.0\n",
            "2       2020-01-23   Snohomish  Washington  53061.0      1     0.0\n",
            "3       2020-01-24        Cook    Illinois  17031.0      1     0.0\n",
            "4       2020-01-24   Snohomish  Washington  53061.0      1     0.0\n",
            "...            ...         ...         ...      ...    ...     ...\n",
            "884732  2020-12-31  Sweetwater     Wyoming  56037.0   2966    16.0\n",
            "884733  2020-12-31       Teton     Wyoming  56039.0   2138     4.0\n",
            "884734  2020-12-31       Uinta     Wyoming  56041.0   1558     7.0\n",
            "884735  2020-12-31    Washakie     Wyoming  56043.0    780    19.0\n",
            "884736  2020-12-31      Weston     Wyoming  56045.0    476     2.0\n",
            "\n",
            "[884737 rows x 6 columns]\n",
            "           state  highest_deaths\n",
            "0       New York       8320598.0\n",
            "1     New Jersey       3817150.0\n",
            "2     California       3065113.0\n",
            "3          Texas       2927740.0\n",
            "4        Florida       2632238.0\n",
            "5  Massachusetts       2222455.0\n",
            "6       Illinois       2211390.0\n",
            "7   Pennsylvania       2002629.0\n",
            "8       Michigan       1837617.0\n",
            "9        Georgia       1363977.0\n"
          ]
        }
      ]
    },
    {
      "cell_type": "code",
      "source": [
        "#States with the 10 highest death count in 2021\n",
        "df_deaths_in_2021 = df[(df['date'] >= '2021-01-01') & (df['date'] <= '2021-12-31')]\n",
        "print(df_deaths_in_2021)\n",
        "df_top_10_counties_2021 = df_deaths_in_2021.groupby('state')['deaths'].sum().nlargest(10)\n",
        "\n",
        "df_top_10_counties_2021 = pd.DataFrame(df_top_10_counties_2021).reset_index()\n",
        "df_top_10_counties_2021.columns = ['state', 'highest_deaths']\n",
        "\n",
        "print(df_top_10_counties_2021)"
      ],
      "metadata": {
        "colab": {
          "base_uri": "https://localhost:8080/"
        },
        "id": "4UVHuAV--F59",
        "outputId": "b214655b-ee8e-444f-885d-463da6269436"
      },
      "execution_count": 13,
      "outputs": [
        {
          "output_type": "stream",
          "name": "stdout",
          "text": [
            "               date      county    state     fips  cases  deaths\n",
            "884737   2021-01-01     Autauga  Alabama   1001.0   4239    50.0\n",
            "884738   2021-01-01     Baldwin  Alabama   1003.0  13823   169.0\n",
            "884739   2021-01-01     Barbour  Alabama   1005.0   1517    33.0\n",
            "884740   2021-01-01        Bibb  Alabama   1007.0   1854    46.0\n",
            "884741   2021-01-01      Blount  Alabama   1009.0   4693    63.0\n",
            "...             ...         ...      ...      ...    ...     ...\n",
            "2070105  2021-12-31  Sweetwater  Wyoming  56037.0   8320   107.0\n",
            "2070106  2021-12-31       Teton  Wyoming  56039.0   5950    14.0\n",
            "2070107  2021-12-31       Uinta  Wyoming  56041.0   4154    31.0\n",
            "2070108  2021-12-31    Washakie  Wyoming  56043.0   1879    37.0\n",
            "2070109  2021-12-31      Weston  Wyoming  56045.0   1254    14.0\n",
            "\n",
            "[1185373 rows x 6 columns]\n",
            "          state  highest_deaths\n",
            "0    California      22532428.0\n",
            "1         Texas      20088968.0\n",
            "2      New York      18918470.0\n",
            "3       Florida      15333245.0\n",
            "4  Pennsylvania      10025434.0\n",
            "5    New Jersey       9406432.0\n",
            "6      Illinois       9306526.0\n",
            "7       Georgia       7791745.0\n",
            "8      Michigan       7460163.0\n",
            "9          Ohio       7327426.0\n"
          ]
        }
      ]
    },
    {
      "cell_type": "code",
      "source": [
        "#States with the 10 highest death average in 2020\n",
        "average_deaths_per_state_2020 = df_deaths_in_2020.groupby('state')['deaths'].mean().nlargest(10)\n",
        "\n",
        "average_deaths_per_state_2020 = pd.DataFrame(average_deaths_per_state_2020).reset_index()\n",
        "average_deaths_per_state_2020.columns = ['state', 'mean_deaths']\n",
        "\n",
        "print(average_deaths_per_state_2020)"
      ],
      "metadata": {
        "colab": {
          "base_uri": "https://localhost:8080/"
        },
        "id": "enjiH1IV-NOt",
        "outputId": "ab5a638a-b180-40e7-e69c-848ccaaeaf90"
      },
      "execution_count": 14,
      "outputs": [
        {
          "output_type": "stream",
          "name": "stdout",
          "text": [
            "                  state  mean_deaths\n",
            "0            New Jersey   590.798638\n",
            "1         Massachusetts   500.102385\n",
            "2              New York   495.037958\n",
            "3  District of Columbia   487.983333\n",
            "4           Puerto Rico   457.537415\n",
            "5           Connecticut   429.230740\n",
            "6               Arizona   238.422596\n",
            "7            California   182.436343\n",
            "8          Rhode Island   152.694639\n",
            "9               Florida   135.000410\n"
          ]
        }
      ]
    },
    {
      "cell_type": "code",
      "source": [
        "\n",
        "#States with the 10 highest death average in 2021\n",
        "average_deaths_per_state_2021 = df_deaths_in_2021.groupby('state')['deaths'].mean().nlargest(10)\n",
        "\n",
        "average_deaths_per_state_2021 = pd.DataFrame(average_deaths_per_state_2021).reset_index()\n",
        "average_deaths_per_state_2021.columns = ['state', 'mean_deaths']\n",
        "\n",
        "print(average_deaths_per_state_2021)\n",
        ""
      ],
      "metadata": {
        "colab": {
          "base_uri": "https://localhost:8080/"
        },
        "id": "yPCEbcVv-RlT",
        "outputId": "fa170ce1-2298-455b-b77d-6e6cbc443dfc"
      },
      "execution_count": 15,
      "outputs": [
        {
          "output_type": "stream",
          "name": "stdout",
          "text": [
            "                  state  mean_deaths\n",
            "0           Puerto Rico  2574.764384\n",
            "1               Arizona  1196.586783\n",
            "2         Massachusetts  1174.260274\n",
            "3            New Jersey  1171.411208\n",
            "4  District of Columbia  1105.120548\n",
            "5            California  1064.004722\n",
            "6           Connecticut   906.108676\n",
            "7              New York   893.645253\n",
            "8               Florida   617.777800\n",
            "9          Rhode Island   444.803653\n"
          ]
        }
      ]
    },
    {
      "cell_type": "code",
      "source": [
        "#Top 10 county having the highest total death in 2020 and 2021\n",
        "df_deaths_in_2020_and_2021 = df[(df['date'] >= '2020-01-01') & (df['date'] <= '2021-12-31')]\n",
        "total_deaths_in_2020_and_2021 = df_deaths_in_2020_and_2021.groupby('county')['deaths'].sum().nlargest(10)\n",
        "\n",
        "total_deaths_in_2020_and_2021 = pd.DataFrame(total_deaths_in_2020_and_2021).reset_index()\n",
        "total_deaths_in_2020_and_2021.columns = ['county', 'sum_deaths']\n",
        "\n",
        "print(total_deaths_in_2020_and_2021)"
      ],
      "metadata": {
        "colab": {
          "base_uri": "https://localhost:8080/"
        },
        "id": "LtjjimTh-WGt",
        "outputId": "65bc4334-7101-4f68-9466-803cfd8ab1cf"
      },
      "execution_count": 16,
      "outputs": [
        {
          "output_type": "stream",
          "name": "stdout",
          "text": [
            "          county  sum_deaths\n",
            "0  New York City  17791710.0\n",
            "1    Los Angeles   9955588.0\n",
            "2           Cook   5257183.0\n",
            "3       Maricopa   4378737.0\n",
            "4      Middlesex   3217896.0\n",
            "5         Orange   3144039.0\n",
            "6          Wayne   3069484.0\n",
            "7     Miami-Dade   3058913.0\n",
            "8         Harris   2960139.0\n",
            "9     Montgomery   2946807.0\n"
          ]
        }
      ]
    },
    {
      "cell_type": "code",
      "source": [
        "def top_n_states_least_deaths(df, year, N):\n",
        "    # Filter DataFrame for specific year\n",
        "    df['date'] = pd.to_datetime(df['date'], errors='coerce')\n",
        "    df_year = df[df['date'].dt.year == year]\n",
        "\n",
        "    df_state_deaths = df_year.groupby('state')['deaths'].sum().reset_index()\n",
        "\n",
        "    # Sort the states by no. of deaths in ascending order\n",
        "    df_state_deaths = df_state_deaths.sort_values(by='deaths', ascending=True)\n",
        "\n",
        "    # Add a rank column for least deaths\n",
        "    df_state_deaths['rank'] = df_state_deaths['deaths'].rank(method='min')\n",
        "\n",
        "    # Get the top N states with least deaths\n",
        "    top_n_states = df_state_deaths.head(N)\n",
        "\n",
        "\n",
        "    print(f\"Top {N} States by Least Deaths in {year}:\")\n",
        "    print(top_n_states[['state', 'deaths', 'rank']])"
      ],
      "metadata": {
        "id": "0K-gQcQl-bTY"
      },
      "execution_count": 17,
      "outputs": []
    },
    {
      "cell_type": "code",
      "source": [
        "top_n_states_least_deaths(df, 2020, 10)"
      ],
      "metadata": {
        "colab": {
          "base_uri": "https://localhost:8080/"
        },
        "id": "YqGl0cYK-mrY",
        "outputId": "f97fac40-6684-4800-b13e-e3d355b0b8dd"
      },
      "execution_count": 18,
      "outputs": [
        {
          "output_type": "stream",
          "name": "stdout",
          "text": [
            "Top 10 States by Least Deaths in 2020:\n",
            "                       state   deaths  rank\n",
            "36  Northern Mariana Islands    544.0   1.0\n",
            "49            Virgin Islands   3503.0   2.0\n",
            "11                      Guam  10424.0   3.0\n",
            "1                     Alaska  13147.0   4.0\n",
            "48                   Vermont  16434.0   5.0\n",
            "54                   Wyoming  20734.0   6.0\n",
            "12                    Hawaii  27227.0   7.0\n",
            "20                     Maine  35654.0   8.0\n",
            "27                   Montana  58866.0   9.0\n",
            "52             West Virginia  84127.0  10.0\n"
          ]
        }
      ]
    },
    {
      "cell_type": "code",
      "source": [
        "top_n_states_least_deaths(df, 2021, 10)\n"
      ],
      "metadata": {
        "colab": {
          "base_uri": "https://localhost:8080/"
        },
        "id": "1IEAiHHb-obq",
        "outputId": "6b11f66f-82e2-484e-a303-65214c6219be"
      },
      "execution_count": 19,
      "outputs": [
        {
          "output_type": "stream",
          "name": "stdout",
          "text": [
            "Top 10 States by Least Deaths in 2021:\n",
            "                       state    deaths  rank\n",
            "2             American Samoa       0.0   1.0\n",
            "37  Northern Mariana Islands     926.0   2.0\n",
            "50            Virgin Islands   16615.0   3.0\n",
            "12                      Guam   61389.0   4.0\n",
            "49                   Vermont  100847.0   5.0\n",
            "1                     Alaska  163285.0   6.0\n",
            "13                    Hawaii  222578.0   7.0\n",
            "55                   Wyoming  316182.0   8.0\n",
            "21                     Maine  328660.0   9.0\n",
            "9       District of Columbia  403369.0  10.0\n"
          ]
        }
      ]
    },
    {
      "cell_type": "code",
      "source": [
        "def top_N_states_in_last_3_months(df, N):\n",
        "  df['date'] = pd.to_datetime(df['date'], errors = 'coerce')\n",
        "  df_last_3_months = df[(df['date'] >= '2021-10-01') & (df['date'] <= '2021-12-31')]\n",
        "  df_state_deaths = df_last_3_months.groupby('state')['deaths'].sum().reset_index()\n",
        "  df_least_deaths = df_state_deaths.sort_values(by='deaths', ascending=True).head(N)\n",
        "  df_least_deaths['rank'] = df_least_deaths['deaths'].rank(method='min')\n",
        "  print(f\"Top {N} States with Least Deaths in the Last 3 Months:\")\n",
        "  print(df_least_deaths[['state', 'deaths', 'rank']])\n",
        "  df_most_deaths = df_state_deaths.sort_values(by='deaths', ascending=False).head(N)\n",
        "  df_most_deaths['rank'] = df_most_deaths['deaths'].rank(ascending=False, method='min')\n",
        "  print(f\"Top {N} States with Most Deaths in the Last 3 Months:\")\n",
        "  print(df_most_deaths[['state', 'deaths', 'rank']])\n",
        "\n",
        "  #Write the output to drive\n",
        "  least_death_path = '/content/drive/MyDrive/dataanalytics1/top_10_least_deaths_last_three_months_2021.csv'\n",
        "  most_death_path = '/content/drive/MyDrive/dataanalytics1/top_10_most_deaths_last_three_months_2021.csv'\n",
        "\n",
        "  df_least_deaths[['state', 'deaths', 'rank']].to_csv(least_death_path, header=True, index=False)\n",
        "  df_most_deaths[['state', 'deaths', 'rank']].to_csv(most_death_path, header=True, index=False)\n",
        "\n"
      ],
      "metadata": {
        "id": "b40FXAyo-uaw"
      },
      "execution_count": 23,
      "outputs": []
    },
    {
      "cell_type": "code",
      "source": [
        "top_N_states_in_last_3_months(df, 10)"
      ],
      "metadata": {
        "colab": {
          "base_uri": "https://localhost:8080/"
        },
        "id": "O6Yw5Orn-zvy",
        "outputId": "458467a5-4127-47a4-fd87-2da073c15f9b"
      },
      "execution_count": 24,
      "outputs": [
        {
          "output_type": "stream",
          "name": "stdout",
          "text": [
            "Top 10 States with Least Deaths in the Last 3 Months:\n",
            "                       state    deaths  rank\n",
            "2             American Samoa       0.0   1.0\n",
            "37  Northern Mariana Islands     380.0   2.0\n",
            "50            Virgin Islands    7588.0   3.0\n",
            "12                      Guam   22934.0   4.0\n",
            "49                   Vermont   36152.0   5.0\n",
            "1                     Alaska   71389.0   6.0\n",
            "13                    Hawaii   88570.0   7.0\n",
            "9       District of Columbia  109817.0   8.0\n",
            "21                     Maine  115144.0   9.0\n",
            "55                   Wyoming  119311.0  10.0\n",
            "Top 10 States with Most Deaths in the Last 3 Months:\n",
            "           state     deaths  rank\n",
            "5     California  6747934.0   1.0\n",
            "47         Texas  6662147.0   2.0\n",
            "10       Florida  5532804.0   3.0\n",
            "34      New York  5212313.0   4.0\n",
            "41  Pennsylvania  3005360.0   5.0\n",
            "15      Illinois  2679721.0   6.0\n",
            "11       Georgia  2620343.0   7.0\n",
            "32    New Jersey  2593734.0   8.0\n",
            "38          Ohio  2354719.0   9.0\n",
            "24      Michigan  2297090.0  10.0\n"
          ]
        }
      ]
    },
    {
      "cell_type": "code",
      "source": [
        "chunk_size = 10000  # Define chunk size\n",
        "chunks = [df[i:i+chunk_size] for i in range(0, df.shape[0], chunk_size)]\n",
        "\n",
        "# Initialize an empty DataFrame to store results\n",
        "df_same_county_diff_states = pd.DataFrame()\n",
        "\n",
        "# Process each chunk\n",
        "for chunk in chunks:\n",
        "    temp_result = pd.merge(chunk[['county', 'state']], df[['county', 'state']], on='county')\n",
        "    temp_result = temp_result[temp_result['state_x'] != temp_result['state_y']]\n",
        "    temp_result = temp_result.drop_duplicates(subset=['county', 'state_x', 'state_y'])\n",
        "\n",
        "    # Append the result of the chunk to the final DataFrame\n",
        "    df_same_county_diff_states = pd.concat([df_same_county_diff_states, temp_result], ignore_index=True)\n",
        "\n",
        "# Rename columns for clarity\n",
        "df_same_county_diff_states.columns = ['county', 'state_1', 'state_2']\n",
        "\n",
        "# Print the result\n",
        "print(df_same_county_diff_states)\n"
      ],
      "metadata": {
        "id": "GtRwPtx6ApQ4"
      },
      "execution_count": null,
      "outputs": []
    }
  ],
  "metadata": {
    "colab": {
      "provenance": [],
      "mount_file_id": "1IIll8-CQahX72QoMrb272nLcZEQH8OJ6",
      "authorship_tag": "ABX9TyM/NK1KKHnPw09IGuLhU/HG",
      "include_colab_link": true
    },
    "kernelspec": {
      "display_name": "Python 3",
      "name": "python3"
    },
    "language_info": {
      "name": "python"
    }
  },
  "nbformat": 4,
  "nbformat_minor": 0
}