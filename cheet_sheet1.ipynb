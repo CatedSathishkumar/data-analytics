{
  "nbformat": 4,
  "nbformat_minor": 0,
  "metadata": {
    "colab": {
      "provenance": [],
      "authorship_tag": "ABX9TyMg6n2HtDWZqOpslTtWjtfD",
      "include_colab_link": true
    },
    "kernelspec": {
      "name": "python3",
      "display_name": "Python 3"
    },
    "language_info": {
      "name": "python"
    }
  },
  "cells": [
    {
      "cell_type": "markdown",
      "metadata": {
        "id": "view-in-github",
        "colab_type": "text"
      },
      "source": [
        "<a href=\"https://colab.research.google.com/github/CatedSathishkumar/data-analytics/blob/main/cheet_sheet1.ipynb\" target=\"_parent\"><img src=\"https://colab.research.google.com/assets/colab-badge.svg\" alt=\"Open In Colab\"/></a>"
      ]
    },
    {
      "cell_type": "code",
      "execution_count": 1,
      "metadata": {
        "id": "3KsUV4tJhUKg"
      },
      "outputs": [],
      "source": [
        "import pandas as pd\n",
        "from tabulate import tabulate\n",
        "import traceback\n",
        "import numpy as np\n",
        "import matplotlib.pyplot as plt\n",
        "from requests import get\n",
        "import requests\n",
        "import os"
      ]
    },
    {
      "cell_type": "code",
      "source": [
        "with open(\"new_csv_file.txt\",\"w\") as f:\n",
        "  f.write(\"a new file is been created\")"
      ],
      "metadata": {
        "id": "nfx97uh3hmWv"
      },
      "execution_count": 2,
      "outputs": []
    },
    {
      "cell_type": "code",
      "source": [
        "lst_names = []\n",
        "# list with some string values in it\n",
        "lst_cities = [\"Bangalore\", \"Chennai\", \"SFO\", \"Beijing\"]\n",
        "# append to existing list\n",
        "lst_cities.append(\"NYC\")\n",
        "# list with some integer values\n",
        "lst_age = [10, 20]\n",
        "# append an integer to the existing list\n",
        "lst_age.append(30)\n",
        "# iterate each value in a list\n",
        "for val in lst_cities:\n",
        " print(val)\n",
        "# check if a value exists in a list\n",
        "if \"SFO\" in lst_cities:\n",
        " print(\"yes\")\n",
        "else:\n",
        " print(\"no\")"
      ],
      "metadata": {
        "colab": {
          "base_uri": "https://localhost:8080/"
        },
        "id": "K8ztU85xiDeY",
        "outputId": "be04e626-2065-4f09-af95-33931e339161"
      },
      "execution_count": 3,
      "outputs": [
        {
          "output_type": "stream",
          "name": "stdout",
          "text": [
            "Bangalore\n",
            "Chennai\n",
            "SFO\n",
            "Beijing\n",
            "NYC\n",
            "yes\n"
          ]
        }
      ]
    },
    {
      "cell_type": "code",
      "source": [
        "lst_animals = ['dog','cat','elephant','lion']\n",
        "print (lst_animals)"
      ],
      "metadata": {
        "colab": {
          "base_uri": "https://localhost:8080/"
        },
        "id": "SpFKH--0iRQ0",
        "outputId": "224199a6-7582-4f6c-b6a1-92af9cbeaad8"
      },
      "execution_count": 4,
      "outputs": [
        {
          "output_type": "stream",
          "name": "stdout",
          "text": [
            "['dog', 'cat', 'elephant', 'lion']\n"
          ]
        }
      ]
    },
    {
      "cell_type": "code",
      "source": [
        "lst_animals.append('Horse')\n",
        "lst_animals.append('Cow')\n",
        "for val in lst_animals:\n",
        "    print(val)"
      ],
      "metadata": {
        "colab": {
          "base_uri": "https://localhost:8080/"
        },
        "id": "czRtf-iEifNy",
        "outputId": "1bf090d5-9837-424d-f642-43c7e695e861"
      },
      "execution_count": 5,
      "outputs": [
        {
          "output_type": "stream",
          "name": "stdout",
          "text": [
            "dog\n",
            "cat\n",
            "elephant\n",
            "lion\n",
            "Horse\n",
            "Cow\n"
          ]
        }
      ]
    },
    {
      "cell_type": "code",
      "source": [
        "# empty set\n",
        "set_names = ()\n",
        "# Set with some string values in it\n",
        "set_cities ={\"Bangalore\", \"Chennai\", \"SFO\", \"Beijing\"}\n",
        "# list with some integer values\n",
        "set_age = [10, 20]\n",
        "print(set_cities)\n",
        "print(set_age)"
      ],
      "metadata": {
        "colab": {
          "base_uri": "https://localhost:8080/"
        },
        "id": "UNIC7IwlilB6",
        "outputId": "fa077819-c78f-4b8d-fbb3-fb5cc2de73ea"
      },
      "execution_count": 6,
      "outputs": [
        {
          "output_type": "stream",
          "name": "stdout",
          "text": [
            "{'Bangalore', 'Beijing', 'Chennai', 'SFO'}\n",
            "[10, 20]\n"
          ]
        }
      ]
    },
    {
      "cell_type": "code",
      "source": [
        "set_names = set(\"dog\")\n",
        "print(set_names)"
      ],
      "metadata": {
        "colab": {
          "base_uri": "https://localhost:8080/"
        },
        "id": "YaaKwHnsi6Ds",
        "outputId": "dcc341d9-0e12-4060-dff2-f84b932d847f"
      },
      "execution_count": 7,
      "outputs": [
        {
          "output_type": "stream",
          "name": "stdout",
          "text": [
            "{'g', 'o', 'd'}\n"
          ]
        }
      ]
    },
    {
      "cell_type": "code",
      "source": [
        "string_set = {\"apple\", \"banana\", \"orange\"}\n",
        "string_set.add(\"apple\")\n",
        "print(string_set)\n",
        "print(\"banana\" in string_set)  # Output: True\n",
        "\n",
        "# Iterate over the elements of the set\n",
        "for fruit in string_set:\n",
        "    print(fruit)"
      ],
      "metadata": {
        "colab": {
          "base_uri": "https://localhost:8080/"
        },
        "id": "ODv-64cFjDtt",
        "outputId": "c3cd8638-265c-4a2a-d902-2f8c1a4b0d0c"
      },
      "execution_count": 8,
      "outputs": [
        {
          "output_type": "stream",
          "name": "stdout",
          "text": [
            "{'apple', 'banana', 'orange'}\n",
            "True\n",
            "apple\n",
            "banana\n",
            "orange\n"
          ]
        }
      ]
    },
    {
      "cell_type": "code",
      "source": [
        "string_set.add('mango')\n",
        "print(string_set)\n",
        "set1 = {1, 2, 3}\n",
        "set2 = {3, 4, 5}\n",
        "\n",
        "union_set = set1 | set2  # {1, 2, 3, 4, 5}\n",
        "intersection_set = set1 & set2  # {3}\n",
        "difference_set = set1 - set2  # {1, 2}\n",
        "symmetric_difference_set = set1 ^ set2\n",
        "print(union_set,intersection_set)"
      ],
      "metadata": {
        "colab": {
          "base_uri": "https://localhost:8080/"
        },
        "id": "BnIRjiEhjG5R",
        "outputId": "753238de-13e1-46c3-de9e-ff0520250c73"
      },
      "execution_count": 10,
      "outputs": [
        {
          "output_type": "stream",
          "name": "stdout",
          "text": [
            "{'mango', 'apple', 'banana', 'orange'}\n",
            "{1, 2, 3, 4, 5} {3}\n"
          ]
        }
      ]
    },
    {
      "cell_type": "code",
      "source": [
        "print(type(set1))\n",
        "print(type(string_set))\n"
      ],
      "metadata": {
        "colab": {
          "base_uri": "https://localhost:8080/"
        },
        "id": "YM-bFQKLjbvZ",
        "outputId": "b2c31866-a964-4033-f054-e8c1fe1d9442"
      },
      "execution_count": 11,
      "outputs": [
        {
          "output_type": "stream",
          "name": "stdout",
          "text": [
            "<class 'set'>\n",
            "<class 'set'>\n"
          ]
        }
      ]
    }
  ]
}