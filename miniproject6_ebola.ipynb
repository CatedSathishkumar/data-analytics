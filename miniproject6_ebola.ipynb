{
  "nbformat": 4,
  "nbformat_minor": 0,
  "metadata": {
    "colab": {
      "provenance": [],
      "authorship_tag": "ABX9TyP08S4d9HHaIFo0HiZ+6xVC",
      "include_colab_link": true
    },
    "kernelspec": {
      "name": "python3",
      "display_name": "Python 3"
    },
    "language_info": {
      "name": "python"
    }
  },
  "cells": [
    {
      "cell_type": "markdown",
      "metadata": {
        "id": "view-in-github",
        "colab_type": "text"
      },
      "source": [
        "<a href=\"https://colab.research.google.com/github/CatedSathishkumar/data-analytics/blob/main/miniproject6_ebola.ipynb\" target=\"_parent\"><img src=\"https://colab.research.google.com/assets/colab-badge.svg\" alt=\"Open In Colab\"/></a>"
      ]
    },
    {
      "cell_type": "code",
      "execution_count": 1,
      "metadata": {
        "id": "47S8F6vnbwra"
      },
      "outputs": [],
      "source": [
        "\n",
        "import pandas as pd\n",
        "from tabulate import tabulate"
      ]
    },
    {
      "cell_type": "markdown",
      "source": [
        "part 1"
      ],
      "metadata": {
        "id": "0wTgEKgVeqbE"
      }
    },
    {
      "cell_type": "code",
      "source": [
        "\n",
        "from google.colab import drive\n",
        "drive.mount('/content/drive')\n",
        ""
      ],
      "metadata": {
        "colab": {
          "base_uri": "https://localhost:8080/"
        },
        "id": "ojr9KiRkftfu",
        "outputId": "f26cd042-8f3a-4538-a5ed-84bbfa965410"
      },
      "execution_count": 6,
      "outputs": [
        {
          "output_type": "stream",
          "name": "stdout",
          "text": [
            "Mounted at /content/drive\n"
          ]
        }
      ]
    },
    {
      "cell_type": "code",
      "source": [
        "df = pd.read_csv('/content/drive/MyDrive/dataanalytics1/ebola_data_db_format.csv')\n",
        "#df['Date'] = pd.to_datetime(df['Date'])\n",
        "list(df)\n",
        "print(tabulate(df.head(5), headers='keys'))"
      ],
      "metadata": {
        "colab": {
          "base_uri": "https://localhost:8080/"
        },
        "id": "bUUGnuCeesrC",
        "outputId": "909ec58e-0bae-4d79-de53-0726c7760a8d"
      },
      "execution_count": 10,
      "outputs": [
        {
          "output_type": "stream",
          "name": "stdout",
          "text": [
            "    Indicator                                                            Country    Date          value\n",
            "--  -------------------------------------------------------------------  ---------  ----------  -------\n",
            " 0  Cumulative number of confirmed, probable and suspected Ebola cases   Guinea     2015-03-10     3285\n",
            " 1  Cumulative number of confirmed Ebola cases                           Guinea     2015-03-10     2871\n",
            " 2  Cumulative number of probable Ebola cases                            Guinea     2015-03-10      392\n",
            " 3  Cumulative number of suspected Ebola cases                           Guinea     2015-03-10       22\n",
            " 4  Cumulative number of confirmed, probable and suspected Ebola deaths  Guinea     2015-03-10     2170\n"
          ]
        }
      ]
    },
    {
      "cell_type": "markdown",
      "source": [
        "1.1 Distinct number of Indicators in the universe (complete dataset).\n",
        "\n",
        "Expected Output:\n",
        "Integer value"
      ],
      "metadata": {
        "id": "DG7CrOIbgXMy"
      }
    },
    {
      "cell_type": "code",
      "source": [
        "print(df['Country'].unique())\n",
        "indicators = df['Indicator'].nunique()\n",
        "print(\"Distinct # if indicators:\\n\", indicators)\n",
        ""
      ],
      "metadata": {
        "colab": {
          "base_uri": "https://localhost:8080/"
        },
        "id": "v-6NqZ2vgSjJ",
        "outputId": "647de450-21ec-4846-9a4d-60f7613fbe9c"
      },
      "execution_count": 11,
      "outputs": [
        {
          "output_type": "stream",
          "name": "stdout",
          "text": [
            "['Guinea' 'Liberia' 'Sierra Leone' 'United Kingdom' 'Mali' 'Nigeria'\n",
            " 'Senegal' 'Spain' 'United States of America' 'Italy' 'Liberia 2'\n",
            " 'Guinea 2']\n",
            "Distinct # if indicators:\n",
            " 36\n"
          ]
        }
      ]
    },
    {
      "cell_type": "markdown",
      "source": [
        "1.2 In the second half of the year 2015, how many countries have one or more “Cumulative number of confirmed Ebola cases”\n",
        "\n",
        "Expected Output:\n",
        "Integer value\n"
      ],
      "metadata": {
        "id": "l5zBtakWghBq"
      }
    },
    {
      "cell_type": "code",
      "source": [
        "import datetime\n",
        "\n",
        "\n",
        "def get_year(row):\n",
        "    return datetime.datetime.strptime(row['Date'], '%Y-%m-%d').year\n",
        "\n",
        "\n",
        "\n",
        "df[\"year\"] = df.apply(get_year, axis=1)\n",
        "df_ebola_2015 = df[(df['Date'] >= \"2015-07-01\") & (df['Date'] <= \"2015-12-31\")]\n",
        "df_ebola_2015 = df.where(df[\"Indicator\"] == \"Cumulative number of confirmed Ebola cases\").groupby(['Country']).size().to_frame(\"count\").reset_index()\n",
        "print(len(pd.unique(df_ebola_2015['Country'])))"
      ],
      "metadata": {
        "colab": {
          "base_uri": "https://localhost:8080/"
        },
        "id": "vRwM0BUogq4V",
        "outputId": "7346c84f-61dc-4c43-8ada-8a7b8908cf14"
      },
      "execution_count": 12,
      "outputs": [
        {
          "output_type": "stream",
          "name": "stdout",
          "text": [
            "12\n"
          ]
        }
      ]
    },
    {
      "cell_type": "markdown",
      "source": [
        "1.3 Top 10 total Ebola cases confirmed. Note that Indicator = Cumulative number of confirmed Ebola cases. Include rank based on the total value (=cases confirmed).\n",
        "\n",
        "Expected Output:\n",
        "country, total_value, rank"
      ],
      "metadata": {
        "id": "cV51FlkXgyOA"
      }
    },
    {
      "cell_type": "code",
      "source": [
        "\n",
        "confirmed = df.where(df['Indicator'] == \"Cumulative number of confirmed Ebola cases\")\\\n",
        "            .groupby([\"Country\"]).size().nlargest(10).to_frame('total_value').reset_index()\n",
        "\n",
        "confirmed['rank'] = confirmed['total_value'].rank(ascending=False)\n",
        "print(tabulate(confirmed, headers='keys', tablefmt='github'))\n",
        ""
      ],
      "metadata": {
        "colab": {
          "base_uri": "https://localhost:8080/"
        },
        "id": "WyyzIY0qg3En",
        "outputId": "1897c009-64e4-4cde-8da6-29c4b2416b3a"
      },
      "execution_count": 13,
      "outputs": [
        {
          "output_type": "stream",
          "name": "stdout",
          "text": [
            "|    | Country                  |   total_value |   rank |\n",
            "|----|--------------------------|---------------|--------|\n",
            "|  0 | Guinea                   |           259 |    1.5 |\n",
            "|  1 | Sierra Leone             |           259 |    1.5 |\n",
            "|  2 | Liberia                  |           258 |    3   |\n",
            "|  3 | Nigeria                  |           255 |    4   |\n",
            "|  4 | Senegal                  |           254 |    5   |\n",
            "|  5 | United States of America |           245 |    6   |\n",
            "|  6 | Mali                     |           243 |    7.5 |\n",
            "|  7 | Spain                    |           243 |    7.5 |\n",
            "|  8 | United Kingdom           |           221 |    9   |\n",
            "|  9 | Italy                    |           141 |   10   |\n"
          ]
        }
      ]
    },
    {
      "cell_type": "markdown",
      "source": [
        "1.4 Top 10 countries that have total cases with Indicator = “Cumulative number of confirmed, probable and suspected Ebola deaths” in 2015 Q2 (i.e., April-June 2015).\n",
        "\n",
        "Expected Output:\n",
        "country, total_cases, rank"
      ],
      "metadata": {
        "id": "Fuawb80pg-p6"
      }
    },
    {
      "cell_type": "code",
      "source": [
        "#confirmed = df[(df['Date'] >= '2015-04-01') & (df['Date'] <= '2015-06-30')]\n",
        "confirmed = df.where(df['Indicator'] == \"Cumulative number of confirmed, probable and suspected Ebola deaths\")\\\n",
        "      .groupby(['Country']).size().to_frame('total_cases').reset_index()\n",
        "confirmed['rank'] = confirmed['total_cases'].rank(ascending=False)\n",
        "confirmed = confirmed.sort_values('rank')\n",
        "\n",
        "print(tabulate(confirmed.head(10), headers='keys', tablefmt='github'))"
      ],
      "metadata": {
        "colab": {
          "base_uri": "https://localhost:8080/"
        },
        "id": "aArsnQBlhFG1",
        "outputId": "bcfd7560-066b-464e-bb83-e21552dca6a3"
      },
      "execution_count": 14,
      "outputs": [
        {
          "output_type": "stream",
          "name": "stdout",
          "text": [
            "|    | Country                  |   total_cases |   rank |\n",
            "|----|--------------------------|---------------|--------|\n",
            "|  0 | Guinea                   |           259 |    2   |\n",
            "|  3 | Liberia                  |           259 |    2   |\n",
            "|  8 | Sierra Leone             |           259 |    2   |\n",
            "|  6 | Nigeria                  |           255 |    4   |\n",
            "|  7 | Senegal                  |           254 |    5   |\n",
            "| 11 | United States of America |           245 |    6   |\n",
            "|  5 | Mali                     |           243 |    7.5 |\n",
            "|  9 | Spain                    |           243 |    7.5 |\n",
            "| 10 | United Kingdom           |           221 |    9   |\n",
            "|  2 | Italy                    |           141 |   10   |\n"
          ]
        }
      ]
    },
    {
      "cell_type": "markdown",
      "source": [
        "1.5 Top 10 countries that have total cases with Indicator = “Cumulative number of confirmed probable and suspected Ebola deaths” with only even months of the year 2015 (i.e., months 2, 4, 6, 8, 10, 12).\n",
        "\n",
        "Expected Output:\n",
        "country, total_cases, rank"
      ],
      "metadata": {
        "id": "D3QVaMf8hK9D"
      }
    },
    {
      "cell_type": "code",
      "source": [
        "def get_month(row):\n",
        "    return datetime.datetime.strptime(row['Date'], '%Y-%m-%d').month\n"
      ],
      "metadata": {
        "id": "T1F-sYLRjLZt"
      },
      "execution_count": 21,
      "outputs": []
    },
    {
      "cell_type": "code",
      "source": [
        "df_ebola_2015['month'] = df.apply(get_month, axis=1)\n",
        "confirmed = df_ebola_2015[df_ebola_2015['month'] % 2 == 0]\n",
        "\n",
        "confirmed = confirmed[confirmed['Indicator'] == \"Cumulative number of confirmed, probable and suspected Ebola deaths\"]\\\n",
        "       .groupby(['Country']).size().to_frame('total_cases').reset_index()\n",
        "confirmed['rank'] = confirmed['total_cases'].rank(ascending=False)\n",
        "confirmed = confirmed.sort_values('rank')\n",
        "\n",
        "print(tabulate(confirmed.head(10), headers='keys', tablefmt='psql'))"
      ],
      "metadata": {
        "colab": {
          "base_uri": "https://localhost:8080/",
          "height": 547
        },
        "id": "ku7qCTpDkWC1",
        "outputId": "3b8623a4-b6b0-486f-ff8d-e288e02d7a33"
      },
      "execution_count": 24,
      "outputs": [
        {
          "output_type": "error",
          "ename": "KeyError",
          "evalue": "'Indicator'",
          "traceback": [
            "\u001b[0;31m---------------------------------------------------------------------------\u001b[0m",
            "\u001b[0;31mKeyError\u001b[0m                                  Traceback (most recent call last)",
            "\u001b[0;32m/usr/local/lib/python3.10/dist-packages/pandas/core/indexes/base.py\u001b[0m in \u001b[0;36mget_loc\u001b[0;34m(self, key)\u001b[0m\n\u001b[1;32m   3804\u001b[0m         \u001b[0;32mtry\u001b[0m\u001b[0;34m:\u001b[0m\u001b[0;34m\u001b[0m\u001b[0;34m\u001b[0m\u001b[0m\n\u001b[0;32m-> 3805\u001b[0;31m             \u001b[0;32mreturn\u001b[0m \u001b[0mself\u001b[0m\u001b[0;34m.\u001b[0m\u001b[0m_engine\u001b[0m\u001b[0;34m.\u001b[0m\u001b[0mget_loc\u001b[0m\u001b[0;34m(\u001b[0m\u001b[0mcasted_key\u001b[0m\u001b[0;34m)\u001b[0m\u001b[0;34m\u001b[0m\u001b[0;34m\u001b[0m\u001b[0m\n\u001b[0m\u001b[1;32m   3806\u001b[0m         \u001b[0;32mexcept\u001b[0m \u001b[0mKeyError\u001b[0m \u001b[0;32mas\u001b[0m \u001b[0merr\u001b[0m\u001b[0;34m:\u001b[0m\u001b[0;34m\u001b[0m\u001b[0;34m\u001b[0m\u001b[0m\n",
            "\u001b[0;32mindex.pyx\u001b[0m in \u001b[0;36mpandas._libs.index.IndexEngine.get_loc\u001b[0;34m()\u001b[0m\n",
            "\u001b[0;32mindex.pyx\u001b[0m in \u001b[0;36mpandas._libs.index.IndexEngine.get_loc\u001b[0;34m()\u001b[0m\n",
            "\u001b[0;32mpandas/_libs/hashtable_class_helper.pxi\u001b[0m in \u001b[0;36mpandas._libs.hashtable.PyObjectHashTable.get_item\u001b[0;34m()\u001b[0m\n",
            "\u001b[0;32mpandas/_libs/hashtable_class_helper.pxi\u001b[0m in \u001b[0;36mpandas._libs.hashtable.PyObjectHashTable.get_item\u001b[0;34m()\u001b[0m\n",
            "\u001b[0;31mKeyError\u001b[0m: 'Indicator'",
            "\nThe above exception was the direct cause of the following exception:\n",
            "\u001b[0;31mKeyError\u001b[0m                                  Traceback (most recent call last)",
            "\u001b[0;32m<ipython-input-24-7bcf5add8b45>\u001b[0m in \u001b[0;36m<cell line: 4>\u001b[0;34m()\u001b[0m\n\u001b[1;32m      2\u001b[0m \u001b[0mconfirmed\u001b[0m \u001b[0;34m=\u001b[0m \u001b[0mdf_ebola_2015\u001b[0m\u001b[0;34m[\u001b[0m\u001b[0mdf_ebola_2015\u001b[0m\u001b[0;34m[\u001b[0m\u001b[0;34m'month'\u001b[0m\u001b[0;34m]\u001b[0m \u001b[0;34m%\u001b[0m \u001b[0;36m2\u001b[0m \u001b[0;34m==\u001b[0m \u001b[0;36m0\u001b[0m\u001b[0;34m]\u001b[0m\u001b[0;34m\u001b[0m\u001b[0;34m\u001b[0m\u001b[0m\n\u001b[1;32m      3\u001b[0m \u001b[0;34m\u001b[0m\u001b[0m\n\u001b[0;32m----> 4\u001b[0;31m \u001b[0mconfirmed\u001b[0m \u001b[0;34m=\u001b[0m \u001b[0mconfirmed\u001b[0m\u001b[0;34m[\u001b[0m\u001b[0mconfirmed\u001b[0m\u001b[0;34m[\u001b[0m\u001b[0;34m'Indicator'\u001b[0m\u001b[0;34m]\u001b[0m \u001b[0;34m==\u001b[0m \u001b[0;34m\"Cumulative number of confirmed, probable and suspected Ebola deaths\"\u001b[0m\u001b[0;34m]\u001b[0m\u001b[0;31m\\\u001b[0m\u001b[0;34m\u001b[0m\u001b[0;34m\u001b[0m\u001b[0m\n\u001b[0m\u001b[1;32m      5\u001b[0m        \u001b[0;34m.\u001b[0m\u001b[0mgroupby\u001b[0m\u001b[0;34m(\u001b[0m\u001b[0;34m[\u001b[0m\u001b[0;34m'Country'\u001b[0m\u001b[0;34m]\u001b[0m\u001b[0;34m)\u001b[0m\u001b[0;34m.\u001b[0m\u001b[0msize\u001b[0m\u001b[0;34m(\u001b[0m\u001b[0;34m)\u001b[0m\u001b[0;34m.\u001b[0m\u001b[0mto_frame\u001b[0m\u001b[0;34m(\u001b[0m\u001b[0;34m'total_cases'\u001b[0m\u001b[0;34m)\u001b[0m\u001b[0;34m.\u001b[0m\u001b[0mreset_index\u001b[0m\u001b[0;34m(\u001b[0m\u001b[0;34m)\u001b[0m\u001b[0;34m\u001b[0m\u001b[0;34m\u001b[0m\u001b[0m\n\u001b[1;32m      6\u001b[0m \u001b[0mconfirmed\u001b[0m\u001b[0;34m[\u001b[0m\u001b[0;34m'rank'\u001b[0m\u001b[0;34m]\u001b[0m \u001b[0;34m=\u001b[0m \u001b[0mconfirmed\u001b[0m\u001b[0;34m[\u001b[0m\u001b[0;34m'total_cases'\u001b[0m\u001b[0;34m]\u001b[0m\u001b[0;34m.\u001b[0m\u001b[0mrank\u001b[0m\u001b[0;34m(\u001b[0m\u001b[0mascending\u001b[0m\u001b[0;34m=\u001b[0m\u001b[0;32mFalse\u001b[0m\u001b[0;34m)\u001b[0m\u001b[0;34m\u001b[0m\u001b[0;34m\u001b[0m\u001b[0m\n",
            "\u001b[0;32m/usr/local/lib/python3.10/dist-packages/pandas/core/frame.py\u001b[0m in \u001b[0;36m__getitem__\u001b[0;34m(self, key)\u001b[0m\n\u001b[1;32m   4100\u001b[0m             \u001b[0;32mif\u001b[0m \u001b[0mself\u001b[0m\u001b[0;34m.\u001b[0m\u001b[0mcolumns\u001b[0m\u001b[0;34m.\u001b[0m\u001b[0mnlevels\u001b[0m \u001b[0;34m>\u001b[0m \u001b[0;36m1\u001b[0m\u001b[0;34m:\u001b[0m\u001b[0;34m\u001b[0m\u001b[0;34m\u001b[0m\u001b[0m\n\u001b[1;32m   4101\u001b[0m                 \u001b[0;32mreturn\u001b[0m \u001b[0mself\u001b[0m\u001b[0;34m.\u001b[0m\u001b[0m_getitem_multilevel\u001b[0m\u001b[0;34m(\u001b[0m\u001b[0mkey\u001b[0m\u001b[0;34m)\u001b[0m\u001b[0;34m\u001b[0m\u001b[0;34m\u001b[0m\u001b[0m\n\u001b[0;32m-> 4102\u001b[0;31m             \u001b[0mindexer\u001b[0m \u001b[0;34m=\u001b[0m \u001b[0mself\u001b[0m\u001b[0;34m.\u001b[0m\u001b[0mcolumns\u001b[0m\u001b[0;34m.\u001b[0m\u001b[0mget_loc\u001b[0m\u001b[0;34m(\u001b[0m\u001b[0mkey\u001b[0m\u001b[0;34m)\u001b[0m\u001b[0;34m\u001b[0m\u001b[0;34m\u001b[0m\u001b[0m\n\u001b[0m\u001b[1;32m   4103\u001b[0m             \u001b[0;32mif\u001b[0m \u001b[0mis_integer\u001b[0m\u001b[0;34m(\u001b[0m\u001b[0mindexer\u001b[0m\u001b[0;34m)\u001b[0m\u001b[0;34m:\u001b[0m\u001b[0;34m\u001b[0m\u001b[0;34m\u001b[0m\u001b[0m\n\u001b[1;32m   4104\u001b[0m                 \u001b[0mindexer\u001b[0m \u001b[0;34m=\u001b[0m \u001b[0;34m[\u001b[0m\u001b[0mindexer\u001b[0m\u001b[0;34m]\u001b[0m\u001b[0;34m\u001b[0m\u001b[0;34m\u001b[0m\u001b[0m\n",
            "\u001b[0;32m/usr/local/lib/python3.10/dist-packages/pandas/core/indexes/base.py\u001b[0m in \u001b[0;36mget_loc\u001b[0;34m(self, key)\u001b[0m\n\u001b[1;32m   3810\u001b[0m             ):\n\u001b[1;32m   3811\u001b[0m                 \u001b[0;32mraise\u001b[0m \u001b[0mInvalidIndexError\u001b[0m\u001b[0;34m(\u001b[0m\u001b[0mkey\u001b[0m\u001b[0;34m)\u001b[0m\u001b[0;34m\u001b[0m\u001b[0;34m\u001b[0m\u001b[0m\n\u001b[0;32m-> 3812\u001b[0;31m             \u001b[0;32mraise\u001b[0m \u001b[0mKeyError\u001b[0m\u001b[0;34m(\u001b[0m\u001b[0mkey\u001b[0m\u001b[0;34m)\u001b[0m \u001b[0;32mfrom\u001b[0m \u001b[0merr\u001b[0m\u001b[0;34m\u001b[0m\u001b[0;34m\u001b[0m\u001b[0m\n\u001b[0m\u001b[1;32m   3813\u001b[0m         \u001b[0;32mexcept\u001b[0m \u001b[0mTypeError\u001b[0m\u001b[0;34m:\u001b[0m\u001b[0;34m\u001b[0m\u001b[0;34m\u001b[0m\u001b[0m\n\u001b[1;32m   3814\u001b[0m             \u001b[0;31m# If we have a listlike key, _check_indexing_error will raise\u001b[0m\u001b[0;34m\u001b[0m\u001b[0;34m\u001b[0m\u001b[0m\n",
            "\u001b[0;31mKeyError\u001b[0m: 'Indicator'"
          ]
        }
      ]
    }
  ]
}